{
  "nbformat": 4,
  "nbformat_minor": 0,
  "metadata": {
    "colab": {
      "provenance": [],
      "authorship_tag": "ABX9TyOq6wkXVPOmaa9myUCJhBnj",
      "include_colab_link": true
    },
    "kernelspec": {
      "name": "python3",
      "display_name": "Python 3"
    },
    "language_info": {
      "name": "python"
    }
  },
  "cells": [
    {
      "cell_type": "markdown",
      "metadata": {
        "id": "view-in-github",
        "colab_type": "text"
      },
      "source": [
        "<a href=\"https://colab.research.google.com/github/ogunjosam/GPP/blob/main/gpp.ipynb\" target=\"_parent\"><img src=\"https://colab.research.google.com/assets/colab-badge.svg\" alt=\"Open In Colab\"/></a>"
      ]
    },
    {
      "cell_type": "code",
      "execution_count": 22,
      "metadata": {
        "id": "6M-r_KF1nNVP"
      },
      "outputs": [],
      "source": [
        "from osgeo import osr, gdal\n",
        "import glob\n",
        "import pandas as pd"
      ]
    },
    {
      "cell_type": "code",
      "source": [
        "!git clone https://github.com/ogunjosam/GPP.git\n",
        "\n",
        "!cd GPP\n",
        "!dir GPP"
      ],
      "metadata": {
        "id": "j7q1ynU7nlJX"
      },
      "execution_count": 4,
      "outputs": []
    },
    {
      "cell_type": "code",
      "source": [
        "fln = glob.glob('GPP/*.tif')\n",
        "coord = pd.read_csv('/content/GPP/Study Points_BP.csv')\n",
        "for i,ii in enumerate(fln):\n",
        "  \n",
        "  ds = gdal.Open(ii)\n",
        "\n",
        "  old_cs= osr.SpatialReference()\n",
        "  old_cs.ImportFromWkt(ds.GetProjectionRef())\n",
        "\n",
        "  # create the new coordinate system\n",
        "  wgs84_wkt = \"\"\"\n",
        "  GEOGCS[\"WGS 84\",\n",
        "      DATUM[\"WGS_1984\",\n",
        "          SPHEROID[\"WGS 84\",6378137,298.257223563,\n",
        "              AUTHORITY[\"EPSG\",\"7030\"]],\n",
        "          AUTHORITY[\"EPSG\",\"6326\"]],\n",
        "      PRIMEM[\"Greenwich\",0,\n",
        "          AUTHORITY[\"EPSG\",\"8901\"]],\n",
        "      UNIT[\"degree\",0.01745329251994328,\n",
        "          AUTHORITY[\"EPSG\",\"9122\"]],\n",
        "      AUTHORITY[\"EPSG\",\"4326\"]]\"\"\"\n",
        "  new_cs = osr.SpatialReference()\n",
        "  new_cs .ImportFromWkt(wgs84_wkt)\n",
        "\n",
        "  # create a transform object to convert between coordinate systems\n",
        "  transform = osr.CoordinateTransformation(old_cs,new_cs) \n",
        "\n",
        "  width = ds.RasterXSize\n",
        "  height = ds.RasterYSize\n",
        "  gt = ds.GetGeoTransform()\n",
        "  minx = gt[0]\n",
        "  miny = gt[3] + width*gt[4] + height*gt[5] \n",
        "  maxx = gt[0] + width*gt[1] + height*gt[2]\n",
        "  maxy = gt[3] \n",
        "\n",
        "  latlong = transform.TransformPoint(minx,maxx) \n",
        "  "
      ],
      "metadata": {
        "colab": {
          "base_uri": "https://localhost:8080/"
        },
        "id": "4zovOzWYof0_",
        "outputId": "321fb14e-5aac-475e-aabe-d0625107d606"
      },
      "execution_count": 36,
      "outputs": [
        {
          "output_type": "execute_result",
          "data": {
            "text/plain": [
              "(-106.6921622347572, -57.170832960928905, 0.0)"
            ]
          },
          "metadata": {},
          "execution_count": 36
        }
      ]
    },
    {
      "cell_type": "code",
      "source": [
        "import xarray as xr\n",
        "\n",
        "dataarray = xr.open_rasterio(ii)"
      ],
      "metadata": {
        "colab": {
          "base_uri": "https://localhost:8080/",
          "height": 547
        },
        "id": "IlPmm_x4qUqV",
        "outputId": "1773a6f3-7371-4f78-95f1-74411974c345"
      },
      "execution_count": 34,
      "outputs": [
        {
          "output_type": "stream",
          "name": "stderr",
          "text": [
            "<ipython-input-34-9971fe04b2c7>:3: DeprecationWarning: open_rasterio is Deprecated in favor of rioxarray. For information about transitioning, see: https://corteva.github.io/rioxarray/stable/getting_started/getting_started.html\n",
            "  dataarray = xr.open_rasterio(ii)\n"
          ]
        },
        {
          "output_type": "error",
          "ename": "ModuleNotFoundError",
          "evalue": "ignored",
          "traceback": [
            "\u001b[0;31m---------------------------------------------------------------------------\u001b[0m",
            "\u001b[0;31mModuleNotFoundError\u001b[0m                       Traceback (most recent call last)",
            "\u001b[0;32m<ipython-input-34-9971fe04b2c7>\u001b[0m in \u001b[0;36m<module>\u001b[0;34m\u001b[0m\n\u001b[1;32m      1\u001b[0m \u001b[0;32mimport\u001b[0m \u001b[0mxarray\u001b[0m \u001b[0;32mas\u001b[0m \u001b[0mxr\u001b[0m\u001b[0;34m\u001b[0m\u001b[0;34m\u001b[0m\u001b[0m\n\u001b[1;32m      2\u001b[0m \u001b[0;34m\u001b[0m\u001b[0m\n\u001b[0;32m----> 3\u001b[0;31m \u001b[0mdataarray\u001b[0m \u001b[0;34m=\u001b[0m \u001b[0mxr\u001b[0m\u001b[0;34m.\u001b[0m\u001b[0mopen_rasterio\u001b[0m\u001b[0;34m(\u001b[0m\u001b[0mii\u001b[0m\u001b[0;34m)\u001b[0m\u001b[0;34m\u001b[0m\u001b[0;34m\u001b[0m\u001b[0m\n\u001b[0m",
            "\u001b[0;32m/usr/local/lib/python3.8/dist-packages/xarray/backends/rasterio_.py\u001b[0m in \u001b[0;36mopen_rasterio\u001b[0;34m(filename, parse_coordinates, chunks, cache, lock, **kwargs)\u001b[0m\n\u001b[1;32m    266\u001b[0m         \u001b[0mstacklevel\u001b[0m\u001b[0;34m=\u001b[0m\u001b[0;36m2\u001b[0m\u001b[0;34m,\u001b[0m\u001b[0;34m\u001b[0m\u001b[0;34m\u001b[0m\u001b[0m\n\u001b[1;32m    267\u001b[0m     )\n\u001b[0;32m--> 268\u001b[0;31m     \u001b[0;32mimport\u001b[0m \u001b[0mrasterio\u001b[0m\u001b[0;34m\u001b[0m\u001b[0;34m\u001b[0m\u001b[0m\n\u001b[0m\u001b[1;32m    269\u001b[0m     \u001b[0;32mfrom\u001b[0m \u001b[0mrasterio\u001b[0m\u001b[0;34m.\u001b[0m\u001b[0mvrt\u001b[0m \u001b[0;32mimport\u001b[0m \u001b[0mWarpedVRT\u001b[0m\u001b[0;34m\u001b[0m\u001b[0;34m\u001b[0m\u001b[0m\n\u001b[1;32m    270\u001b[0m \u001b[0;34m\u001b[0m\u001b[0m\n",
            "\u001b[0;31mModuleNotFoundError\u001b[0m: No module named 'rasterio'",
            "",
            "\u001b[0;31m---------------------------------------------------------------------------\u001b[0;32m\nNOTE: If your import is failing due to a missing package, you can\nmanually install dependencies using either !pip or !apt.\n\nTo view examples of installing some common dependencies, click the\n\"Open Examples\" button below.\n\u001b[0;31m---------------------------------------------------------------------------\u001b[0m\n"
          ],
          "errorDetails": {
            "actions": [
              {
                "action": "open_url",
                "actionText": "Open Examples",
                "url": "/notebooks/snippets/importing_libraries.ipynb"
              }
            ]
          }
        }
      ]
    }
  ]
}