{
  "nbformat": 4,
  "nbformat_minor": 0,
  "metadata": {
    "colab": {
      "provenance": [],
      "authorship_tag": "ABX9TyORV54XZvuFUd4Nh6Fpk8aQ",
      "include_colab_link": true
    },
    "kernelspec": {
      "name": "python3",
      "display_name": "Python 3"
    },
    "language_info": {
      "name": "python"
    }
  },
  "cells": [
    {
      "cell_type": "markdown",
      "metadata": {
        "id": "view-in-github",
        "colab_type": "text"
      },
      "source": [
        "<a href=\"https://colab.research.google.com/github/ogunjosam/GPP/blob/main/gpp.ipynb\" target=\"_parent\"><img src=\"https://colab.research.google.com/assets/colab-badge.svg\" alt=\"Open In Colab\"/></a>"
      ]
    },
    {
      "cell_type": "code",
      "execution_count": 22,
      "metadata": {
        "id": "6M-r_KF1nNVP"
      },
      "outputs": [],
      "source": [
        "from osgeo import osr, gdal\n",
        "import glob\n",
        "import pandas as pd\n",
        "\n",
        "!pip install rioxarray\n",
        "import xarray as xr\n",
        "import rioxarray"
      ]
    },
    {
      "cell_type": "code",
      "source": [
        "!git clone https://github.com/ogunjosam/GPP.git\n",
        "\n",
        "!cd GPP\n",
        "!dir GPP"
      ],
      "metadata": {
        "id": "j7q1ynU7nlJX"
      },
      "execution_count": 4,
      "outputs": []
    },
    {
      "cell_type": "code",
      "source": [
        "fln = glob.glob('GPP/*.tif')\n",
        "coord = pd.read_csv('/content/GPP/Study Points_BP.csv')\n",
        "for i,ii in enumerate(fln):\n",
        "  \n",
        "  ds = gdal.Open(ii)\n",
        "\n",
        "  old_cs= osr.SpatialReference()\n",
        "  old_cs.ImportFromWkt(ds.GetProjectionRef())\n",
        "\n",
        "  # create the new coordinate system\n",
        "  wgs84_wkt = \"\"\"\n",
        "  GEOGCS[\"WGS 84\",\n",
        "      DATUM[\"WGS_1984\",\n",
        "          SPHEROID[\"WGS 84\",6378137,298.257223563,\n",
        "              AUTHORITY[\"EPSG\",\"7030\"]],\n",
        "          AUTHORITY[\"EPSG\",\"6326\"]],\n",
        "      PRIMEM[\"Greenwich\",0,\n",
        "          AUTHORITY[\"EPSG\",\"8901\"]],\n",
        "      UNIT[\"degree\",0.01745329251994328,\n",
        "          AUTHORITY[\"EPSG\",\"9122\"]],\n",
        "      AUTHORITY[\"EPSG\",\"4326\"]]\"\"\"\n",
        "  new_cs = osr.SpatialReference()\n",
        "  new_cs .ImportFromWkt(wgs84_wkt)\n",
        "\n",
        "  # create a transform object to convert between coordinate systems\n",
        "  transform = osr.CoordinateTransformation(old_cs,new_cs) \n",
        "\n",
        "  width = ds.RasterXSize\n",
        "  height = ds.RasterYSize\n",
        "  gt = ds.GetGeoTransform()\n",
        "  minx = gt[0]\n",
        "  miny = gt[3] + width*gt[4] + height*gt[5] \n",
        "  maxx = gt[0] + width*gt[1] + height*gt[2]\n",
        "  maxy = gt[3] \n",
        "\n",
        "  latlong = transform.TransformPoint(minx,maxx) \n",
        "  "
      ],
      "metadata": {
        "colab": {
          "base_uri": "https://localhost:8080/"
        },
        "id": "4zovOzWYof0_",
        "outputId": "321fb14e-5aac-475e-aabe-d0625107d606"
      },
      "execution_count": 36,
      "outputs": [
        {
          "output_type": "execute_result",
          "data": {
            "text/plain": [
              "(-106.6921622347572, -57.170832960928905, 0.0)"
            ]
          },
          "metadata": {},
          "execution_count": 36
        }
      ]
    },
    {
      "cell_type": "code",
      "source": [
        "fln = glob.glob('GPP/*.tif')\n",
        "coord = pd.read_csv('/content/GPP/Study Points_BP.csv')\n",
        "\n",
        "for i,ii in enumerate(fln):\n",
        "  nn = []\n",
        "  dataarray = rioxarray.open_rasterio(ii,default_name='olusola')\n",
        "  dataarray = dataarray.rio.reproject(\"EPSG:4326\")\n",
        "  dast = dataarray.to_dataset()\n",
        "  dast.set_coords((\"olusola\"))\n",
        "  dast.assign_coords(var=(dast.olusola))\n",
        "  dast=dast.drop_vars(('spatial_ref','band'))\n",
        "  for j,jj in enumerate(coord['y']):\n",
        "    da = dast[\"olusola\"].sel(y=coord['y'][j], x=coord['x'][j], method=\"nearest\")\n",
        "    nn.append(float(da.values))\n",
        "  \n",
        "  coord[str.split(str.split(ii,'.')[4],'_')[0]] = nn\n",
        "\n",
        "coord.to_excel('final_output.xlsx')"
      ],
      "metadata": {
        "id": "IlPmm_x4qUqV"
      },
      "execution_count": 142,
      "outputs": []
    },
    {
      "cell_type": "code",
      "source": [
        "da = dast[\"olusola\"].sel(y=coord['y'][0], x=coord['x'][0], method=\"nearest\")\n",
        "[float(da.x.values),float(da.y.values),float(da.values)]"
      ],
      "metadata": {
        "colab": {
          "base_uri": "https://localhost:8080/"
        },
        "id": "WLcCqQwlzKiT",
        "outputId": "cf745bdb-ebcb-4525-8d8b-44d15a9a12fc"
      },
      "execution_count": 131,
      "outputs": [
        {
          "output_type": "execute_result",
          "data": {
            "text/plain": [
              "[-81.55097426071652, 45.14196544123453, 34.0]"
            ]
          },
          "metadata": {},
          "execution_count": 131
        }
      ]
    }
  ]
}